{
 "cells": [
  {
   "cell_type": "code",
   "execution_count": 4,
   "id": "5beb1e3a",
   "metadata": {},
   "outputs": [],
   "source": [
    "from sklearn.feature_extraction.text import TfidfVectorizer\n",
    "from sklearn.linear_model import LogisticRegression\n",
    "import pickle\n",
    "import pandas as pd\n",
    "\n",
    "# Load your data\n",
    "df = pd.read_csv(\"../data/prompt_data.csv\")\n",
    "\n",
    "X = df[\"prompt\"]\n",
    "y = df[\"label\"]\n",
    "\n",
    "# ✅ Fit TF-IDF\n",
    "vectorizer = TfidfVectorizer(ngram_range=(1, 2), max_features=3000)\n",
    "X_vec = vectorizer.fit_transform(X)\n",
    "\n",
    "# ✅ Fit model\n",
    "clf = LogisticRegression()\n",
    "clf.fit(X_vec, y)\n",
    "\n",
    "# ✅ Save both properly\n",
    "with open(\"../models/vectorizer.pkl\", \"wb\") as f:\n",
    "    pickle.dump(vectorizer, f)\n",
    "\n",
    "with open(\"../models/classifier.pkl\", \"wb\") as f:\n",
    "    pickle.dump(clf, f)\n"
   ]
  }
 ],
 "metadata": {
  "kernelspec": {
   "display_name": "3.10.14",
   "language": "python",
   "name": "python3"
  },
  "language_info": {
   "codemirror_mode": {
    "name": "ipython",
    "version": 3
   },
   "file_extension": ".py",
   "mimetype": "text/x-python",
   "name": "python",
   "nbconvert_exporter": "python",
   "pygments_lexer": "ipython3",
   "version": "3.10.14"
  }
 },
 "nbformat": 4,
 "nbformat_minor": 5
}
